{
 "cells": [
  {
   "cell_type": "markdown",
   "id": "f4dbe2e3",
   "metadata": {},
   "source": [
    "# Advanced Retrieval With LangChain\n",
    "\n",
    "Let's go over a few more complex and advanced retrieval methods with LangChain.\n",
    "\n",
    "There is no one right way to retrieve data - it'll depend on your application so take some time to think about it before you jump in\n",
    "\n",
    "Let's have some fun\n",
    "\n",
    "* **Multi Query** - Given a single user query, use an LLM to synthetically generate multiple other queries. Use each one of the new queries to retrieve documents, take the union of those documents for the final context of your prompt\n",
    "* **Contextual Compression** - Fluff remover. Normal retrieval but with an extra step of pulling out relevant information from each returned document. This makes each relevant document smaller for your final prompt (which increases information density)\n",
    "* **Parent Document Retriever** - Split and embed *small* chunks (for maximum information density), then return the parent documents (or larger chunks) those small chunks come from\n",
    "* **Ensemble Retriever** - Combine multiple retrievers together\n",
    "* **Self-Query** - When the retriever infers filters from a users query and applies those filters to the underlying data"
   ]
  },
  {
   "cell_type": "code",
   "execution_count": 1,
   "id": "dcf93b72",
   "metadata": {},
   "outputs": [],
   "source": [
    "from dotenv import load_dotenv\n",
    "import os\n",
    "\n",
    "load_dotenv()\n",
    "\n",
    "openai_api_key=os.getenv('OPENAI_API_KEY', 'YourAPIKey')"
   ]
  },
  {
   "cell_type": "markdown",
   "id": "50493ba9",
   "metadata": {},
   "source": [
    "## Load up our texts and documents\n",
    "\n",
    "Then chunk them, and put them into a vector store"
   ]
  },
  {
   "cell_type": "code",
   "execution_count": 2,
   "id": "ff07d69b",
   "metadata": {},
   "outputs": [],
   "source": [
    "from langchain.document_loaders import DirectoryLoader\n",
    "from langchain.embeddings.openai import OpenAIEmbeddings\n",
    "from langchain.text_splitter import RecursiveCharacterTextSplitter\n",
    "from langchain.vectorstores import Chroma"
   ]
  },
  {
   "cell_type": "code",
   "execution_count": 3,
   "id": "ae08f45b",
   "metadata": {},
   "outputs": [
    {
     "name": "stderr",
     "output_type": "stream",
     "text": [
      "100%|███████████████████████████████████████████████████████████████████████████████████████| 49/49 [00:29<00:00,  1.66it/s]\n"
     ]
    }
   ],
   "source": [
    "loader = DirectoryLoader('../data/PaulGrahamEssaysLarge/', glob=\"**/*.txt\", show_progress=True)\n",
    "\n",
    "docs = loader.load()"
   ]
  },
  {
   "cell_type": "code",
   "execution_count": 4,
   "id": "265f72f8",
   "metadata": {},
   "outputs": [
    {
     "name": "stdout",
     "output_type": "stream",
     "text": [
      "You have 49 essays loaded\n"
     ]
    }
   ],
   "source": [
    "print (f\"You have {len(docs)} essays loaded\")"
   ]
  },
  {
   "cell_type": "code",
   "execution_count": 5,
   "id": "ddd71b36",
   "metadata": {},
   "outputs": [
    {
     "name": "stdout",
     "output_type": "stream",
     "text": [
      "Your 49 documents have been split into 471 chunks\n"
     ]
    }
   ],
   "source": [
    "# Split\n",
    "text_splitter = RecursiveCharacterTextSplitter(chunk_size=1500, chunk_overlap=0)\n",
    "splits = text_splitter.split_documents(docs)\n",
    "\n",
    "print (f\"Your {len(docs)} documents have been split into {len(splits)} chunks\")"
   ]
  },
  {
   "cell_type": "code",
   "execution_count": 6,
   "id": "7a37879f",
   "metadata": {},
   "outputs": [],
   "source": [
    "if 'vectordb' in globals(): # If you've already made your vectordb this will delete it so you start fresh\n",
    "    vectordb.delete_collection()\n",
    "\n",
    "embedding = OpenAIEmbeddings()\n",
    "vectordb = Chroma.from_documents(documents=splits, embedding=embedding)"
   ]
  },
  {
   "cell_type": "markdown",
   "id": "38be1d0e",
   "metadata": {},
   "source": [
    "### MultiQuery\n",
    "\n",
    "This retrieval method will generated 3 additional questions to get a total of 4 queries (with the users included) that will be used to go retrieve documents. This is helpful when you want to retrieve documents which are similar in meaning to your question."
   ]
  },
  {
   "cell_type": "code",
   "execution_count": 7,
   "id": "fef59032",
   "metadata": {},
   "outputs": [],
   "source": [
    "from langchain.chat_models import ChatOpenAI\n",
    "from langchain.retrievers.multi_query import MultiQueryRetriever\n",
    "from langchain.prompts import PromptTemplate\n",
    "# Set logging for the queries\n",
    "import logging"
   ]
  },
  {
   "cell_type": "code",
   "execution_count": 8,
   "id": "ed315ac4",
   "metadata": {},
   "outputs": [],
   "source": [
    "logging.basicConfig()\n",
    "logging.getLogger(\"langchain.retrievers.multi_query\").setLevel(logging.INFO)"
   ]
  },
  {
   "cell_type": "code",
   "execution_count": 9,
   "id": "4c9750dc",
   "metadata": {},
   "outputs": [],
   "source": [
    "question = \"What is the authors view on the early stages of a startup?\"\n",
    "llm = ChatOpenAI(temperature=0)\n",
    "\n",
    "retriever_from_llm = MultiQueryRetriever.from_llm(\n",
    "    retriever=vectordb.as_retriever(), llm=llm\n",
    ")"
   ]
  },
  {
   "cell_type": "code",
   "execution_count": 10,
   "id": "c7a55b41",
   "metadata": {},
   "outputs": [
    {
     "name": "stderr",
     "output_type": "stream",
     "text": [
      "INFO:langchain.retrievers.multi_query:Generated queries: ['1. How does the author perceive the early stages of a startup?', \"2. What are the author's thoughts on the initial phases of a startup?\", \"3. What is the author's perspective on the beginning stages of a startup?\"]\n"
     ]
    }
   ],
   "source": [
    "unique_docs = retriever_from_llm.get_relevant_documents(query=question)"
   ]
  },
  {
   "cell_type": "code",
   "execution_count": 11,
   "id": "afd3449d",
   "metadata": {},
   "outputs": [
    {
     "data": {
      "text/plain": [
       "7"
      ]
     },
     "execution_count": 11,
     "metadata": {},
     "output_type": "execute_result"
    }
   ],
   "source": [
    "len(unique_docs)"
   ]
  },
  {
   "cell_type": "code",
   "execution_count": 12,
   "id": "4669bc0e",
   "metadata": {},
   "outputs": [],
   "source": [
    "prompt_template = \"\"\"Use the following pieces of context to answer the question at the end.\n",
    "If you don't know the answer, just say that you don't know, don't try to make up an answer.\n",
    "\n",
    "{context}\n",
    "\n",
    "Question: {question}\n",
    "Answer:\"\"\"\n",
    "PROMPT = PromptTemplate(\n",
    "    template=prompt_template, input_variables=[\"context\", \"question\"]\n",
    ")"
   ]
  },
  {
   "cell_type": "code",
   "execution_count": 13,
   "id": "240b7b56",
   "metadata": {},
   "outputs": [
    {
     "data": {
      "text/plain": [
       "'The author believes that it is important for startups to release an early version of their product quickly and then improve it based on user feedback. They emphasize the importance of getting version 1 done fast and state that many startups have failed because they were too slow to release their product.'"
      ]
     },
     "execution_count": 13,
     "metadata": {},
     "output_type": "execute_result"
    }
   ],
   "source": [
    "llm.predict(text=PROMPT.format_prompt(\n",
    "    context=unique_docs,\n",
    "    question=question\n",
    ").text)"
   ]
  },
  {
   "cell_type": "markdown",
   "id": "eff39008",
   "metadata": {},
   "source": [
    "### Contextual Compression"
   ]
  },
  {
   "cell_type": "code",
   "execution_count": 14,
   "id": "f1efc668",
   "metadata": {},
   "outputs": [],
   "source": [
    "from langchain.retrievers import ContextualCompressionRetriever\n",
    "from langchain.retrievers.document_compressors import LLMChainExtractor"
   ]
  },
  {
   "cell_type": "code",
   "execution_count": 15,
   "id": "7eb5c6e5",
   "metadata": {},
   "outputs": [],
   "source": [
    "llm = ChatOpenAI(temperature=0, model='gpt-4')\n",
    "\n",
    "compressor = LLMChainExtractor.from_llm(llm)\n",
    "compression_retriever = ContextualCompressionRetriever(base_compressor=compressor,\n",
    "                                                       base_retriever=vectordb.as_retriever())"
   ]
  },
  {
   "cell_type": "markdown",
   "id": "fdc392b6",
   "metadata": {},
   "source": [
    "First, an example of compression. Below we have one of our splits that we made above"
   ]
  },
  {
   "cell_type": "code",
   "execution_count": 16,
   "id": "1561a033",
   "metadata": {},
   "outputs": [
    {
     "data": {
      "text/plain": [
       "\"July 2006I've discovered a handy test for figuring out what you're addicted\\n\\nto.  Imagine you were going to spend the weekend at a friend's house\\n\\non a little island off the coast of Maine.  There are no shops on\\n\\nthe island and you won't be able to leave while you're there.  Also,\\n\\nyou've never been to this house before, so you can't assume it will\\n\\nhave more than any house might.What, besides clothes and toiletries, do you make a point of packing?\\n\\nThat's what you're addicted to.  For example, if you find yourself\\n\\npacking a bottle of vodka (just in case), you may want to stop and\\n\\nthink about that.For me the list is four things: books, earplugs, a notebook, and a\\n\\npen.There are other things I might bring if I thought of it, like music,\\n\\nor tea, but I can live without them.  I'm not so addicted to caffeine\\n\\nthat I wouldn't risk the house not having any tea, just for a\\n\\nweekend.Quiet is another matter.  I realize it seems a bit eccentric to\\n\\ntake earplugs on a trip to an island off the coast of Maine.  If\\n\\nanywhere should be quiet, that should.  But what if the person in\\n\\nthe next room snored?  What if there was a kid playing basketball?\\n\\n(Thump, thump, thump... thump.)  Why risk it?  Earplugs are small.Sometimes I can think with noise.  If I already have momentum on\\n\\nsome project, I can work in noisy places.  I can edit an essay or\\n\\ndebug code in an airport.  But airports are not so bad: most of the\\n\\nnoise is whitish.  I couldn't work with the sound of a sitcom coming\""
      ]
     },
     "execution_count": 16,
     "metadata": {},
     "output_type": "execute_result"
    }
   ],
   "source": [
    "splits[0].page_content"
   ]
  },
  {
   "cell_type": "markdown",
   "id": "ab86de32",
   "metadata": {},
   "source": [
    "Now we are going to pass a question to it and with that question we will compress the doc. The cool part is this doc will be contextually compressed, meaning the resulting file will only have the information relevant to the question."
   ]
  },
  {
   "cell_type": "code",
   "execution_count": 17,
   "id": "40ebdfd6",
   "metadata": {},
   "outputs": [
    {
     "name": "stderr",
     "output_type": "stream",
     "text": [
      "/Users/gregorykamradt/opt/anaconda3/lib/python3.9/site-packages/langchain/chains/llm.py:280: UserWarning: The predict_and_parse method is deprecated, instead pass an output parser directly to LLMChain.\n",
      "  warnings.warn(\n"
     ]
    },
    {
     "data": {
      "text/plain": [
       "[Document(page_content=\"I've discovered a handy test for figuring out what you're addicted to.  Imagine you were going to spend the weekend at a friend's house on a little island off the coast of Maine.  There are no shops on the island and you won't be able to leave while you're there.  Also, you've never been to this house before, so you can't assume it will have more than any house might.What, besides clothes and toiletries, do you make a point of packing? That's what you're addicted to.\", metadata={'source': '../data/PaulGrahamEssaysLarge/island.txt'})]"
      ]
     },
     "execution_count": 17,
     "metadata": {},
     "output_type": "execute_result"
    }
   ],
   "source": [
    "compressor.compress_documents(documents=[splits[0]], query=\"test for what you like to do\")"
   ]
  },
  {
   "cell_type": "markdown",
   "id": "c95a4c1c",
   "metadata": {},
   "source": [
    "Great so we had a long document, now we have a shorter document with more dense information. Great for getting rid of the fluff. Let's try it out on our essays"
   ]
  },
  {
   "cell_type": "code",
   "execution_count": 18,
   "id": "51c4daee",
   "metadata": {},
   "outputs": [],
   "source": [
    "question = \"What is the authors view on the early stages of a startup?\"\n",
    "compressed_docs = compression_retriever.get_relevant_documents(question)"
   ]
  },
  {
   "cell_type": "code",
   "execution_count": 19,
   "id": "83cb292f",
   "metadata": {},
   "outputs": [
    {
     "name": "stdout",
     "output_type": "stream",
     "text": [
      "4\n"
     ]
    },
    {
     "data": {
      "text/plain": [
       "[Document(page_content='The thing I probably repeat most is this recipe for a startup: get a version 1 out fast, then improve it based on users\\' reactions.By \"release early\" I don\\'t mean you should release something full of bugs, but that you should release something minimal.  Users hate bugs, but they don\\'t seem to mind a minimal version 1, if there\\'s more coming soon.There are several reasons it pays to get version 1 done fast.  One is that this is simply the right way to write software, whether for a startup or not.  I\\'ve been repeating that since 1993, and I haven\\'t seen much since to contradict it.  I\\'ve seen a lot of startups die because they were too slow to release stuff, and none because they were too quick.', metadata={'source': '../data/PaulGrahamEssaysLarge/startuplessons.txt'}),\n",
       " Document(page_content=\"Building office buildings for technology companies won't get you a\\n\\nsilicon valley, because the key stage in the life of a startup\\n\\nhappens before they want that kind of space.  The key stage is when\\n\\nthey're three guys operating out of an apartment.  Wherever the\\n\\nstartup is when it gets funded, it will stay.  The defining quality\", metadata={'source': '../data/PaulGrahamEssaysLarge/siliconvalley.txt'}),\n",
       " Document(page_content='\"Bring us your startups early,\" said Google\\'s speaker at the Startup School.  They\\'re quite\\n\\nexplicit about it: they like to acquire startups at just the point\\n\\nwhere they would do a Series A round.  (The Series A round is the\\n\\nfirst round of real VC funding; it usually happens in the first\\n\\nyear.) It is a brilliant strategy, and one that other big technology\\n\\ncompanies will no doubt try to duplicate.  Unless they want to have\\n\\nstill more of their lunch eaten by Google.', metadata={'source': '../data/PaulGrahamEssaysLarge/vcsqueeze.txt'}),\n",
       " Document(page_content='of a startup, which in its raw form is more a distraction than a motivator.', metadata={'source': '../data/PaulGrahamEssaysLarge/vcsqueeze.txt'})]"
      ]
     },
     "execution_count": 19,
     "metadata": {},
     "output_type": "execute_result"
    }
   ],
   "source": [
    "print (len(compressed_docs))\n",
    "compressed_docs"
   ]
  },
  {
   "cell_type": "code",
   "execution_count": 20,
   "id": "e08044f7",
   "metadata": {},
   "outputs": [],
   "source": [
    "prompt_template = \"\"\"Use the following pieces of context to answer the question at the end.\n",
    "If you don't know the answer, just say that you don't know, don't try to make up an answer.\n",
    "\n",
    "{context}\n",
    "\n",
    "Question: {question}\n",
    "Answer:\"\"\"\n",
    "PROMPT = PromptTemplate(\n",
    "    template=prompt_template, input_variables=[\"context\", \"question\"]\n",
    ")"
   ]
  },
  {
   "cell_type": "code",
   "execution_count": 21,
   "id": "b174f262",
   "metadata": {},
   "outputs": [
    {
     "data": {
      "text/plain": [
       "\"The author believes that the early stages of a startup are crucial. He advises startups to get a version 1 out fast and then improve it based on users' reactions. He emphasizes that it's not necessary for the first version to be perfect, but it should be functional and minimal. He also mentions that startups often begin with a small team operating out of an apartment and that wherever the startup is when it gets funded, it will stay. The author also notes that big technology companies, like Google, are interested in acquiring startups at these early stages.\""
      ]
     },
     "execution_count": 21,
     "metadata": {},
     "output_type": "execute_result"
    }
   ],
   "source": [
    "llm.predict(text=PROMPT.format_prompt(\n",
    "    context=compressed_docs,\n",
    "    question=question\n",
    ").text)"
   ]
  },
  {
   "cell_type": "markdown",
   "id": "98d7d51f",
   "metadata": {},
   "source": [
    "### Parent Document Retriever\n",
    "\n",
    "[LangChain documentation](https://python.langchain.com/docs/modules/data_connection/retrievers/parent_document_retriever) does a great job describing this - my minor edits below:\n",
    "\n",
    "When you split your docs, you generally may want to have small documents, so that their embeddings can most accurately reflect their meaning. If too long, then the embeddings can lose meaning.\n",
    "\n",
    "But at the same time you may want to have information around those small chunks to keep context of the longer document.\n",
    "\n",
    "The ParentDocumentRetriever strikes that balance by splitting and storing small chunks of data. During retrieval, it first fetches the small chunks but then looks up the parent ids for those chunks and returns those larger documents.\n",
    "\n",
    "Note that \"parent document\" refers to the document that a small chunk originated from. This can either be the whole raw document OR a larger chunk."
   ]
  },
  {
   "cell_type": "code",
   "execution_count": 22,
   "id": "3fd6e470",
   "metadata": {},
   "outputs": [],
   "source": [
    "from langchain.retrievers import ParentDocumentRetriever\n",
    "from langchain.storage import InMemoryStore"
   ]
  },
  {
   "cell_type": "code",
   "execution_count": 23,
   "id": "503444a8",
   "metadata": {},
   "outputs": [],
   "source": [
    "# This text splitter is used to create the child documents. They should be small chunk size.\n",
    "child_splitter = RecursiveCharacterTextSplitter(chunk_size=400)"
   ]
  },
  {
   "cell_type": "code",
   "execution_count": 24,
   "id": "e1f3d1c4",
   "metadata": {},
   "outputs": [],
   "source": [
    "# The vectorstore to use to index the child chunks\n",
    "vectorstore = Chroma(\n",
    "    collection_name=\"return_full_documents\",\n",
    "    embedding_function=OpenAIEmbeddings()\n",
    ")"
   ]
  },
  {
   "cell_type": "code",
   "execution_count": 25,
   "id": "2d98928b",
   "metadata": {},
   "outputs": [],
   "source": [
    "# The storage layer for the parent documents\n",
    "store = InMemoryStore()\n",
    "\n",
    "retriever = ParentDocumentRetriever(\n",
    "    vectorstore=vectorstore, \n",
    "    docstore=store, \n",
    "    child_splitter=child_splitter,\n",
    ")"
   ]
  },
  {
   "cell_type": "markdown",
   "id": "e896018a",
   "metadata": {},
   "source": [
    "Now we will add the whole essays that we split above. We haven't chunked these essays yet, but the `.add_documents` will do the small chunking for us with the `child_splitter` above"
   ]
  },
  {
   "cell_type": "code",
   "execution_count": 26,
   "id": "098bf4a3",
   "metadata": {},
   "outputs": [],
   "source": [
    "retriever.add_documents(docs, ids=None)"
   ]
  },
  {
   "cell_type": "markdown",
   "id": "078d2854",
   "metadata": {},
   "source": [
    "Now if we were to put in a question or query, we'll get small chunks returned"
   ]
  },
  {
   "cell_type": "code",
   "execution_count": 27,
   "id": "a3ad876b",
   "metadata": {},
   "outputs": [],
   "source": [
    "sub_docs = vectorstore.similarity_search(\"what is some investing advice?\")"
   ]
  },
  {
   "cell_type": "code",
   "execution_count": 28,
   "id": "ddc663c8",
   "metadata": {},
   "outputs": [
    {
     "data": {
      "text/plain": [
       "[Document(page_content=\"[1]\\n\\nBut investors are so fickle that you can never\\n\\ndo more than start to count on them.  Sometimes something about your\\n\\nbusiness will spook investors even if your growth is great.  So no\\n\\nmatter how good your growth is, you can never safely treat fundraising\\n\\nas more than a plan A. You should always have a plan B as well: you\\n\\nshould know (as in write down) precisely what you'll need to do to\", metadata={'doc_id': 'dac5a5f1-7595-4eb6-8181-98ad9e6e1e95', 'source': '../data/PaulGrahamEssaysLarge/aord.txt'}),\n",
       " Document(page_content=\"people there are rich, or expect to be when their options vest.\\n\\nOrdinary employees find it very hard to recommend an acquisition;\\n\\nit's just too annoying to see a bunch of twenty year olds get rich\\n\\nwhen you're still working for salary.  Even if it's the right thing\\n\\nfor your company to do.The Solution(s)Bad as things look now, there is a way for VCs to save themselves.\", metadata={'doc_id': '16d3cc88-a368-43ca-b2f2-663e7f646b2b', 'source': '../data/PaulGrahamEssaysLarge/vcsqueeze.txt'}),\n",
       " Document(page_content='to succeed as a startup investor.  Most really good startup ideas\\n\\nlook like bad ideas at first, and many of those look bad specifically\\n\\nbecause some change in the world just switched them from bad to\\n\\ngood.  I spent a lot of time learning to recognize such ideas, and\\n\\nthe techniques I used may be applicable to ideas in general.The first step is to have an explicit belief in change.  People who', metadata={'doc_id': '2ca12286-d2b5-43c2-abef-00f3b182ad50', 'source': '../data/PaulGrahamEssaysLarge/ecw.txt'}),\n",
       " Document(page_content=\"the product is expensive to develop or sell, or simply because\\n\\nthey're wasteful.If you're paying attention, you'll be asking at this point not just\\n\\nhow to avoid the fatal pinch, but how to avoid being default dead.\\n\\nThat one is easy: don't hire too fast.  Hiring too fast is by far\\n\\nthe biggest killer of startups that raise money.\", metadata={'doc_id': 'dac5a5f1-7595-4eb6-8181-98ad9e6e1e95', 'source': '../data/PaulGrahamEssaysLarge/aord.txt'})]"
      ]
     },
     "execution_count": 28,
     "metadata": {},
     "output_type": "execute_result"
    }
   ],
   "source": [
    "sub_docs"
   ]
  },
  {
   "cell_type": "markdown",
   "id": "6b1f18f1",
   "metadata": {},
   "source": [
    "Look how small those chunks are. Now we want to get the parent doc which those small docs are a part of."
   ]
  },
  {
   "cell_type": "code",
   "execution_count": 29,
   "id": "17413045",
   "metadata": {},
   "outputs": [],
   "source": [
    "retrieved_docs = retriever.get_relevant_documents(\"what is some investing advice?\")"
   ]
  },
  {
   "cell_type": "code",
   "execution_count": 30,
   "id": "8ecf6116",
   "metadata": {},
   "outputs": [
    {
     "data": {
      "text/plain": [
       "[Document(page_content='October 2015When I talk to a startup that\\'s been operating for more than 8 or\\n\\n9 months, the first thing I want to know is almost always the same.\\n\\nAssuming their expenses remain constant and their revenue growth\\n\\nis what it has been over the last several months, do they make it to\\n\\nprofitability on the money they have left?  Or to put it more\\n\\ndramatically, by default do they live or die?The startling thing is how often the founders themselves don\\'t know.\\n\\nHalf the founders I talk to don\\'t know whether they\\'re default alive\\n\\nor default dead.If you\\'re among that number, Trevor Blackwell has made a handy\\n\\ncalculator you can use to find out.The reason I want to know first whether a startup is default alive\\n\\nor default dead is that the rest of the conversation depends on the\\n\\nanswer.  If the company is default alive, we can talk about ambitious\\n\\nnew things they could do.  If it\\'s default dead, we probably need\\n\\nto talk about how to save it.  We know the current trajectory ends\\n\\nbadly.  How can they get off that trajectory?Why do so few founders know whether they\\'re default alive or default\\n\\ndead?  Mainly, I think, because they\\'re not used to asking that.\\n\\nIt\\'s not a question that makes sense to ask early on, any more than\\n\\nit makes sense to ask a 3 year old how he plans to support\\n\\nhimself.  But as the company grows older, the question switches from\\n\\nmeaningless to critical.  That kind of switch often takes people\\n\\nby surprise.I propose the following solution: instead of starting to ask too\\n\\nlate whether you\\'re default alive or default dead, start asking too\\n\\nearly.  It\\'s hard to say precisely when the question switches\\n\\npolarity.  But it\\'s probably not that dangerous to start worrying\\n\\ntoo early that you\\'re default dead, whereas it\\'s very dangerous to\\n\\nstart worrying too late.The reason is a phenomenon I wrote about earlier: the\\n\\nfatal pinch.\\n\\nThe fatal pinch is default dead + slow growth + not enough\\n\\ntime to fix it.  And the way founders end up in it is by not realizing\\n\\nthat\\'s where they\\'re headed.There is another reason founders don\\'t ask themselves whether they\\'re\\n\\ndefault alive or default dead: they assume it will be easy to raise\\n\\nmore money.  But that assumption is often false, and worse still, the\\n\\nmore you depend on it, the falser it becomes.Maybe it will help to separate facts from hopes. Instead of thinking\\n\\nof the future with vague optimism, explicitly separate the components.\\n\\nSay \"We\\'re default dead, but we\\'re counting on investors to save\\n\\nus.\" Maybe as you say that, it will set off the same alarms in your\\n\\nhead that it does in mine.  And if you set off the alarms sufficiently\\n\\nearly, you may be able to avoid the fatal pinch.It would be safe to be default dead if you could count on investors\\n\\nsaving you.  As a rule their interest is a function of\\n\\ngrowth.  If you have steep revenue growth, say over 5x a year, you\\n\\ncan start to count on investors being interested even if you\\'re not\\n\\nprofitable.\\n\\n[1]\\n\\nBut investors are so fickle that you can never\\n\\ndo more than start to count on them.  Sometimes something about your\\n\\nbusiness will spook investors even if your growth is great.  So no\\n\\nmatter how good your growth is, you can never safely treat fundraising\\n\\nas more than a plan A. You should always have a plan B as well: you\\n\\nshould know (as in write down) precisely what you\\'ll need to do to\\n\\nsurvive if you can\\'t raise more money, and precisely when you\\'ll\\n\\nhave to switch to plan B if plan A isn\\'t working.In any case, growing fast versus operating cheaply is far from the\\n\\nsharp dichotomy many founders assume it to be.  In practice there\\n\\nis surprisingly little connection between how much a startup spends\\n\\nand how fast it grows.  When a startup grows fast, it\\'s usually\\n\\nbecause the product hits a nerve, in the sense of hitting some big\\n\\nneed straight on.  When a startup spends a lot, it\\'s usually because\\n\\nthe product is expensive to develop or sell, or simply because\\n\\nthey\\'re wasteful.If you\\'re paying attention, you\\'ll be asking at this point not just\\n\\nhow to avoid the fatal pinch, but how to avoid being default dead.\\n\\nThat one is easy: don\\'t hire too fast.  Hiring too fast is by far\\n\\nthe biggest killer of startups that raise money.\\n\\n[2]Founders tell themselves they need to hire in order to grow.  But\\n\\nmost err on the side of overestimating this need rather than\\n\\nunderestimating it.  Why?  Partly because there\\'s so much work to\\n\\ndo.  Naive founders think that if they can just hire enough\\n\\npeople, it will all get done.  Partly because successful startups have\\n\\nlots of employees, so it seems like that\\'s what one does in order\\n\\nto be successful.  In fact the large staffs of successful startups\\n\\nare probably more the effect of growth than the cause.  And\\n\\npartly because when founders have slow growth they don\\'t want to\\n\\nface what is usually the real reason: the product is not appealing\\n\\nenough.Plus founders who\\'ve just raised money are often encouraged to\\n\\noverhire by the VCs who funded them.  Kill-or-cure strategies are\\n\\noptimal for VCs because they\\'re protected by the portfolio effect.\\n\\nVCs want to blow you up, in one sense of the phrase or the other.\\n\\nBut as a founder your incentives are different.  You want above all\\n\\nto survive.\\n\\n[3]Here\\'s a common way startups die.  They make something moderately\\n\\nappealing and have decent initial growth. They raise their first\\n\\nround fairly easily, because the founders seem smart and the idea\\n\\nsounds plausible. But because the product is only moderately\\n\\nappealing, growth is ok but not great.  The founders convince\\n\\nthemselves that hiring a bunch of people is the way to boost growth.\\n\\nTheir investors agree.  But (because the product is only moderately\\n\\nappealing) the growth never comes.  Now they\\'re rapidly running out\\n\\nof runway.  They hope further investment will save them. But because\\n\\nthey have high expenses and slow growth, they\\'re now unappealing\\n\\nto investors. They\\'re unable to raise more, and the company dies.What the company should have done is address the fundamental problem:\\n\\nthat the product is only moderately appealing.  Hiring people is\\n\\nrarely the way to fix that.  More often than not it makes it harder.\\n\\nAt this early stage, the product needs to evolve more than to be\\n\\n\"built out,\" and that\\'s usually easier with fewer people.\\n\\n[4]Asking whether you\\'re default alive or default dead may save you\\n\\nfrom this.  Maybe the alarm bells it sets off will counteract the\\n\\nforces that push you to overhire.  Instead you\\'ll be compelled to\\n\\nseek growth in other ways. For example, by doing\\n\\nthings that don\\'t scale, or by redesigning the product in the\\n\\nway only founders can.\\n\\nAnd for many if not most startups, these paths to growth will be\\n\\nthe ones that actually work.Airbnb waited 4 months after raising money at the end of Y\\xa0Combinator\\n\\nbefore they hired their first employee.  In the meantime the founders\\n\\nwere terribly overworked.  But they were overworked evolving Airbnb\\n\\ninto the astonishingly successful organism it is now.Notes[1]\\n\\nSteep usage growth will also interest investors.  Revenue\\n\\nwill ultimately be a constant multiple of usage, so x% usage growth\\n\\npredicts x% revenue growth.  But in practice investors discount\\n\\nmerely predicted revenue, so if you\\'re measuring usage you need a\\n\\nhigher growth rate to impress investors.[2]\\n\\nStartups that don\\'t raise money are saved from hiring too\\n\\nfast because they can\\'t afford to. But that doesn\\'t mean you should\\n\\navoid raising money in order to avoid this problem, any more than\\n\\nthat total abstinence is the only way to avoid becoming an alcoholic.[3]\\n\\nI would not be surprised if VCs\\' tendency to push founders\\n\\nto overhire is not even in their own interest.  They don\\'t know how\\n\\nmany of the companies that get killed by overspending might have\\n\\ndone well if they\\'d survived.  My guess is a significant number.[4]\\n\\nAfter reading a draft, Sam Altman wrote:\"I think you should make the hiring point more strongly.  I think\\n\\nit\\'s roughly correct to say that YC\\'s most successful companies\\n\\nhave never been the fastest to hire, and one of the marks of a great\\n\\nfounder is being able to resist this urge.\"Paul Buchheit adds:\"A related problem that I see a lot is premature scaling—founders\\n\\ntake a small business that isn\\'t really working (bad unit economics,\\n\\ntypically) and then scale it up because they want impressive growth\\n\\nnumbers. This is similar to over-hiring in that it makes the business\\n\\nmuch harder to fix once it\\'s big, plus they are bleeding cash really\\n\\nfast.\"\\n\\nThanks to Sam Altman, Paul Buchheit, Joe Gebbia, Jessica Livingston,\\n\\nand Geoff Ralston for reading drafts of this.', metadata={'source': '../data/PaulGrahamEssaysLarge/aord.txt'}),\n",
       " Document(page_content='November 2005In the next few years, venture capital funds will find themselves\\n\\nsqueezed from four directions.  They\\'re already stuck with a seller\\'s\\n\\nmarket, because of the huge amounts they raised at the end of the\\n\\nBubble and still haven\\'t invested.  This by itself is not the end\\n\\nof the world.  In fact, it\\'s just a more extreme version of the\\n\\nnorm\\n\\nin the VC business: too much money chasing too few deals.Unfortunately, those few deals now want less and less money, because\\n\\nit\\'s getting so cheap to start a startup.  The four causes: open\\n\\nsource, which makes software free; Moore\\'s law, which makes hardware\\n\\ngeometrically closer to free; the Web, which makes promotion free\\n\\nif you\\'re good; and better languages, which make development a lot\\n\\ncheaper.When we started our startup in 1995, the first three were our biggest\\n\\nexpenses.  We had to pay $5000 for the Netscape Commerce Server,\\n\\nthe only software that then supported secure http connections.  We\\n\\npaid $3000 for a server with a 90 MHz processor and 32 meg of\\n\\nmemory.  And we paid a PR firm about $30,000 to promote our launch.Now you could get all three for nothing.  You can get the software\\n\\nfor free; people throw away computers more powerful than our first\\n\\nserver; and if you make something good you can generate ten times\\n\\nas much traffic by word of mouth online than our first PR firm got\\n\\nthrough the print media.And of course another big change for the average startup is that\\n\\nprogramming languages have improved-- or rather, the median language has.  At most startups ten years\\n\\nago, software development meant ten programmers writing code in\\n\\nC++.  Now the same work might be done by one or two using Python\\n\\nor Ruby.During the Bubble, a lot of people predicted that startups would\\n\\noutsource their development to India.  I think a better model for\\n\\nthe future is David Heinemeier Hansson, who outsourced his development\\n\\nto a more powerful language instead.  A lot of well-known applications\\n\\nare now, like BaseCamp, written by just one programmer.  And one\\n\\nguy is more than 10x cheaper than ten, because (a) he won\\'t waste\\n\\nany time in meetings, and (b) since he\\'s probably a founder, he can\\n\\npay himself nothing.Because starting a startup is so cheap, venture capitalists now\\n\\noften want to give startups more money than the startups want to\\n\\ntake.  VCs like to invest several million at a time.  But as one\\n\\nVC told me after a startup he funded would only take about half a\\n\\nmillion, \"I don\\'t know what we\\'re going to do.  Maybe we\\'ll just\\n\\nhave to give some of it back.\" Meaning give some of the fund back\\n\\nto the institutional investors who supplied it, because it wasn\\'t\\n\\ngoing to be possible to invest it all.Into this already bad situation comes the third problem: Sarbanes-Oxley.\\n\\nSarbanes-Oxley is a law, passed after the Bubble, that drastically\\n\\nincreases the regulatory burden on public companies. And in addition\\n\\nto the cost of compliance, which is at least two million dollars a\\n\\nyear, the law introduces frightening legal exposure for corporate\\n\\nofficers.  An experienced CFO I know said flatly: \"I would not\\n\\nwant to be CFO of a public company now.\"You might think that responsible corporate governance is an area\\n\\nwhere you can\\'t go too far.  But you can go too far in any law, and\\n\\nthis remark convinced me that Sarbanes-Oxley must have.  This CFO\\n\\nis both the smartest and the most upstanding money guy I know.  If\\n\\nSarbanes-Oxley deters people like him from being CFOs of public\\n\\ncompanies, that\\'s proof enough that it\\'s broken.Largely because of Sarbanes-Oxley, few startups go public now.  For\\n\\nall practical purposes, succeeding now equals getting bought.  Which\\n\\nmeans VCs are now in the business of finding promising little 2-3\\n\\nman startups and pumping them up into companies that cost $100\\n\\nmillion to acquire.   They didn\\'t mean to be in this business; it\\'s\\n\\njust what their business has evolved into.Hence the fourth problem: the acquirers have begun to realize they\\n\\ncan buy wholesale.  Why should they wait for VCs to make the startups\\n\\nthey want more expensive?  Most of what the VCs add, acquirers don\\'t\\n\\nwant anyway.  The acquirers already have brand recognition and HR\\n\\ndepartments.  What they really want is the software and the developers,\\n\\nand that\\'s what the startup is in the early phase: concentrated\\n\\nsoftware and developers.Google, typically, seems to have been the first to figure this out.\\n\\n\"Bring us your startups early,\" said Google\\'s speaker at the Startup School.  They\\'re quite\\n\\nexplicit about it: they like to acquire startups at just the point\\n\\nwhere they would do a Series A round.  (The Series A round is the\\n\\nfirst round of real VC funding; it usually happens in the first\\n\\nyear.) It is a brilliant strategy, and one that other big technology\\n\\ncompanies will no doubt try to duplicate.  Unless they want to have\\n\\nstill more of their lunch eaten by Google.Of course, Google has an advantage in buying startups: a lot of the\\n\\npeople there are rich, or expect to be when their options vest.\\n\\nOrdinary employees find it very hard to recommend an acquisition;\\n\\nit\\'s just too annoying to see a bunch of twenty year olds get rich\\n\\nwhen you\\'re still working for salary.  Even if it\\'s the right thing\\n\\nfor your company to do.The Solution(s)Bad as things look now, there is a way for VCs to save themselves.\\n\\nThey need to do two things, one of which won\\'t surprise them, and\\n\\nanother that will seem an anathema.Let\\'s start with the obvious one: lobby to get Sarbanes-Oxley\\n\\nloosened.  This law was created to prevent future Enrons, not to\\n\\ndestroy the IPO market.  Since the IPO market was practically dead\\n\\nwhen it passed, few saw what bad effects it would have.  But now\\n\\nthat technology has recovered from the last bust, we can see clearly\\n\\nwhat a bottleneck Sarbanes-Oxley has become.Startups are fragile plants—seedlings, in fact.  These seedlings\\n\\nare worth protecting, because they grow into the trees of the\\n\\neconomy.  Much of the economy\\'s growth is their growth.  I think\\n\\nmost politicians realize that.  But they don\\'t realize just how\\n\\nfragile startups are, and how easily they can become collateral\\n\\ndamage of laws meant to fix some other problem.Still more dangerously, when you destroy startups, they make very\\n\\nlittle noise.  If you step on the toes of the coal industry, you\\'ll\\n\\nhear about it.  But if you inadvertantly squash the startup industry,\\n\\nall that happens is that the founders of the next Google stay in\\n\\ngrad school instead of starting a company.My second suggestion will seem shocking to VCs: let founders cash\\n\\nout partially in the Series A round.  At the moment, when VCs invest\\n\\nin a startup, all the stock they get is newly issued and all the\\n\\nmoney goes to the company.  They could buy some stock directly from\\n\\nthe founders as well.Most VCs have an almost religious rule against doing this.  They\\n\\ndon\\'t want founders to get a penny till the company is sold or goes\\n\\npublic.  VCs are obsessed with control, and they worry that they\\'ll\\n\\nhave less leverage over the founders if the founders have any money.This is a dumb plan.  In fact, letting the founders sell a little stock\\n\\nearly would generally be better for the company, because it would\\n\\ncause the founders\\' attitudes toward risk to be aligned with the\\n\\nVCs\\'.  As things currently work, their attitudes toward risk tend\\n\\nto be diametrically opposed: the founders, who have nothing, would\\n\\nprefer a 100% chance of $1 million to a 20% chance of $10 million,\\n\\nwhile the VCs can afford to be \"rational\" and prefer the latter.Whatever they say, the reason founders are selling their companies\\n\\nearly instead of doing Series A rounds is that they get paid up\\n\\nfront.  That first million is just worth so much more than the\\n\\nsubsequent ones.  If founders could sell a little stock early,\\n\\nthey\\'d be happy to take VC money and bet the rest on a bigger\\n\\noutcome.So why not let the founders have that first million, or at least\\n\\nhalf million?  The VCs would get same number of shares for the\\n\\nmoney.  So what if some of the money would go to the\\n\\nfounders instead of the company?Some VCs will say this is\\n\\nunthinkable—that they want all their money to be put to work\\n\\ngrowing the company.  But the fact is, the huge size of current VC\\n\\ninvestments is dictated by the structure\\n\\nof VC funds, not the needs of startups.  Often as not these large\\n\\ninvestments go to work destroying the company rather than growing\\n\\nit.The angel investors who funded our startup let the founders sell\\n\\nsome stock directly to them, and it was a good deal for everyone.\\n\\nThe angels made a huge return on that investment, so they\\'re happy.\\n\\nAnd for us founders it blunted the terrifying all-or-nothingness\\n\\nof a startup, which in its raw form is more a distraction than a\\n\\nmotivator.If VCs are frightened at the idea of letting founders partially\\n\\ncash out, let me tell them something still more frightening: you\\n\\nare now competing directly with Google.\\n\\nThanks to Trevor Blackwell, Sarah Harlin, Jessica\\n\\nLivingston, and Robert Morris for reading drafts of this.', metadata={'source': '../data/PaulGrahamEssaysLarge/vcsqueeze.txt'}),\n",
       " Document(page_content='December 2014If the world were static, we could have monotonically increasing\\n\\nconfidence in our beliefs.  The more (and more varied) experience\\n\\na belief survived, the less likely it would be false.  Most people\\n\\nimplicitly believe something like this about their opinions.  And\\n\\nthey\\'re justified in doing so with opinions about things that don\\'t\\n\\nchange much, like human nature.  But you can\\'t trust your opinions\\n\\nin the same way about things that change, which could include\\n\\npractically everything else.When experts are wrong, it\\'s often because they\\'re experts on an\\n\\nearlier version of the world.Is it possible to avoid that?  Can you protect yourself against\\n\\nobsolete beliefs?  To some extent, yes. I spent almost a decade\\n\\ninvesting in early stage startups, and curiously enough protecting\\n\\nyourself against obsolete beliefs is exactly what you have to do\\n\\nto succeed as a startup investor.  Most really good startup ideas\\n\\nlook like bad ideas at first, and many of those look bad specifically\\n\\nbecause some change in the world just switched them from bad to\\n\\ngood.  I spent a lot of time learning to recognize such ideas, and\\n\\nthe techniques I used may be applicable to ideas in general.The first step is to have an explicit belief in change.  People who\\n\\nfall victim to a monotonically increasing confidence in their\\n\\nopinions are implicitly concluding the world is static.  If you\\n\\nconsciously remind yourself it isn\\'t, you start to look for change.Where should one look for it?  Beyond the moderately useful\\n\\ngeneralization that human nature doesn\\'t change much, the unfortunate\\n\\nfact is that change is hard to predict.  This is largely a tautology\\n\\nbut worth remembering all the same: change that matters usually\\n\\ncomes from an unforeseen quarter.So I don\\'t even try to predict it.  When I get asked in interviews\\n\\nto predict the future, I always have to struggle to come up with\\n\\nsomething plausible-sounding on the fly, like a student who hasn\\'t\\n\\nprepared for an exam.\\n\\n[1]\\n\\nBut it\\'s not out of laziness that I haven\\'t\\n\\nprepared.  It seems to me that beliefs about the future are so\\n\\nrarely correct that they usually aren\\'t worth the extra rigidity\\n\\nthey impose, and that the best strategy is simply to be aggressively\\n\\nopen-minded.  Instead of trying to point yourself in the right\\n\\ndirection, admit you have no idea what the right direction is, and\\n\\ntry instead to be super sensitive to the winds of change.It\\'s ok to have working hypotheses, even though they may constrain\\n\\nyou a bit, because they also motivate you.  It\\'s exciting to chase\\n\\nthings and exciting to try to guess answers.  But you have to be\\n\\ndisciplined about not letting your hypotheses harden into anything\\n\\nmore.\\n\\n[2]I believe this passive m.o. works not just for evaluating new ideas\\n\\nbut also for having them.  The way to come up with new ideas is not\\n\\nto try explicitly to, but to try to solve problems and simply not\\n\\ndiscount weird hunches you have in the process.The winds of change originate in the unconscious minds of domain\\n\\nexperts.  If you\\'re sufficiently expert in a field, any weird idea\\n\\nor apparently irrelevant question that occurs to you is ipso facto\\n\\nworth exploring.\\n\\n[3]\\n\\nWithin Y Combinator, when an idea is described\\n\\nas crazy, it\\'s a compliment—in fact, on average probably a\\n\\nhigher compliment than when an idea is described as good.Startup investors have extraordinary incentives for correcting\\n\\nobsolete beliefs.  If they can realize before other investors that\\n\\nsome apparently unpromising startup isn\\'t, they can make a huge\\n\\namount of money.  But the incentives are more than just financial.\\n\\nInvestors\\' opinions are explicitly tested: startups come to them\\n\\nand they have to say yes or no, and then, fairly quickly, they learn\\n\\nwhether they guessed right.  The investors who say no to a Google\\n\\n(and there were several) will remember it for the rest of their\\n\\nlives.Anyone who must in some sense bet on ideas rather than merely\\n\\ncommenting on them has similar incentives.  Which means anyone who\\n\\nwants such incentives can have them, by turning their comments into\\n\\nbets: if you write about a topic in some fairly durable and public\\n\\nform, you\\'ll find you worry much more about getting things right\\n\\nthan most people would in a casual conversation.\\n\\n[4]Another trick I\\'ve found to protect myself against obsolete beliefs\\n\\nis to focus initially on people rather than ideas. Though the nature\\n\\nof future discoveries is hard to predict, I\\'ve found I can predict\\n\\nquite well what sort of people will make them.  Good new ideas come\\n\\nfrom earnest, energetic, independent-minded people.Betting on people over ideas saved me countless times as an investor.\\n\\nWe thought Airbnb was a bad idea, for example. But we could tell\\n\\nthe founders were earnest, energetic, and independent-minded.\\n\\n(Indeed, almost pathologically so.)  So we suspended disbelief and\\n\\nfunded them.This too seems a technique that should be generally applicable.\\n\\nSurround yourself with the sort of people new ideas come from.  If\\n\\nyou want to notice quickly when your beliefs become obsolete, you\\n\\ncan\\'t do better than to be friends with the people whose discoveries\\n\\nwill make them so.It\\'s hard enough already not to become the prisoner of your own\\n\\nexpertise, but it will only get harder, because change is accelerating.\\n\\nThat\\'s not a recent trend; change has been accelerating since the\\n\\npaleolithic era.  Ideas beget ideas.  I don\\'t expect that to change.\\n\\nBut I could be wrong.\\n\\nNotes[1]\\n\\nMy usual trick is to talk about aspects of the present that\\n\\nmost people haven\\'t noticed yet.[2]\\n\\nEspecially if they become well enough known that people start\\n\\nto identify them with you.  You have to be extra skeptical about\\n\\nthings you want to believe, and once a hypothesis starts to be\\n\\nidentified with you, it will almost certainly start to be in that\\n\\ncategory.[3]\\n\\nIn practice \"sufficiently expert\" doesn\\'t require one to be\\n\\nrecognized as an expert—which is a trailing indicator in any\\n\\ncase.  In many fields a year of focused work plus caring a lot would\\n\\nbe enough.[4]\\n\\nThough they are public and persist indefinitely, comments on\\n\\ne.g. forums and places like Twitter seem empirically to work like\\n\\ncasual conversation.  The threshold may be whether what you write\\n\\nhas a title.\\n\\nThanks to Sam Altman, Patrick Collison, and Robert Morris\\n\\nfor reading drafts of this.', metadata={'source': '../data/PaulGrahamEssaysLarge/ecw.txt'})]"
      ]
     },
     "execution_count": 30,
     "metadata": {},
     "output_type": "execute_result"
    }
   ],
   "source": [
    "retrieved_docs"
   ]
  },
  {
   "cell_type": "markdown",
   "id": "fe9e6ab8",
   "metadata": {},
   "source": [
    "However here we got the full document back. Sometimes this will be too long and we actually just want to get a larger chunk instead. Let's do that."
   ]
  },
  {
   "cell_type": "code",
   "execution_count": 31,
   "id": "f6c3d87b",
   "metadata": {},
   "outputs": [],
   "source": [
    "# This text splitter is used to create the parent documents\n",
    "parent_splitter = RecursiveCharacterTextSplitter(chunk_size=2000)\n",
    "\n",
    "# This text splitter is used to create the child documents\n",
    "# It should create documents smaller than the parent\n",
    "child_splitter = RecursiveCharacterTextSplitter(chunk_size=400)\n",
    "\n",
    "# The vectorstore to use to index the child chunks\n",
    "vectorstore = Chroma(collection_name=\"return_split_parent_documents\", embedding_function=OpenAIEmbeddings())\n",
    "\n",
    "# The storage layer for the parent documents\n",
    "store = InMemoryStore()"
   ]
  },
  {
   "cell_type": "markdown",
   "id": "973d4514",
   "metadata": {},
   "source": [
    "This will set up our retriever for us"
   ]
  },
  {
   "cell_type": "code",
   "execution_count": 32,
   "id": "aacf5776",
   "metadata": {},
   "outputs": [],
   "source": [
    "retriever = ParentDocumentRetriever(\n",
    "    vectorstore=vectorstore, \n",
    "    docstore=store, \n",
    "    child_splitter=child_splitter,\n",
    "    parent_splitter=parent_splitter,\n",
    ")"
   ]
  },
  {
   "cell_type": "markdown",
   "id": "2204ee45",
   "metadata": {},
   "source": [
    "Now this time when we add documents two things will happen\n",
    "1. Larger chunks - We'll split our docs into large chunks\n",
    "2. Smaller chunks - We'll split our docs into smaller chunks\n",
    "\n",
    "Both of them will be combined."
   ]
  },
  {
   "cell_type": "code",
   "execution_count": 33,
   "id": "561c9cb6",
   "metadata": {},
   "outputs": [],
   "source": [
    "retriever.add_documents(docs)"
   ]
  },
  {
   "cell_type": "markdown",
   "id": "c4bcede3",
   "metadata": {},
   "source": [
    "Let's check out how many documents we have now"
   ]
  },
  {
   "cell_type": "code",
   "execution_count": 34,
   "id": "f5e4718d",
   "metadata": {},
   "outputs": [
    {
     "data": {
      "text/plain": [
       "385"
      ]
     },
     "execution_count": 34,
     "metadata": {},
     "output_type": "execute_result"
    }
   ],
   "source": [
    "len(list(store.yield_keys()))"
   ]
  },
  {
   "cell_type": "markdown",
   "id": "11327641",
   "metadata": {},
   "source": [
    "Then let's go get our small chunks to make sure it's working and see how long they are"
   ]
  },
  {
   "cell_type": "code",
   "execution_count": 35,
   "id": "7e6f6150",
   "metadata": {},
   "outputs": [
    {
     "data": {
      "text/plain": [
       "[Document(page_content=\"people there are rich, or expect to be when their options vest.\\n\\nOrdinary employees find it very hard to recommend an acquisition;\\n\\nit's just too annoying to see a bunch of twenty year olds get rich\\n\\nwhen you're still working for salary.  Even if it's the right thing\\n\\nfor your company to do.The Solution(s)Bad as things look now, there is a way for VCs to save themselves.\", metadata={'doc_id': 'ed1f5a7e-ecfe-4d03-90bd-0d20732a6e86', 'source': '../data/PaulGrahamEssaysLarge/vcsqueeze.txt'}),\n",
       " Document(page_content='to succeed as a startup investor.  Most really good startup ideas\\n\\nlook like bad ideas at first, and many of those look bad specifically\\n\\nbecause some change in the world just switched them from bad to\\n\\ngood.  I spent a lot of time learning to recognize such ideas, and\\n\\nthe techniques I used may be applicable to ideas in general.The first step is to have an explicit belief in change.  People who', metadata={'doc_id': '8e8139c6-2dbc-4fc0-9930-4475439652ee', 'source': '../data/PaulGrahamEssaysLarge/ecw.txt'}),\n",
       " Document(page_content=\"in the same way about things that change, which could include\\n\\npractically everything else.When experts are wrong, it's often because they're experts on an\\n\\nearlier version of the world.Is it possible to avoid that?  Can you protect yourself against\\n\\nobsolete beliefs?  To some extent, yes. I spent almost a decade\\n\\ninvesting in early stage startups, and curiously enough protecting\", metadata={'doc_id': '8e8139c6-2dbc-4fc0-9930-4475439652ee', 'source': '../data/PaulGrahamEssaysLarge/ecw.txt'}),\n",
       " Document(page_content=\"April 2006(This essay is derived from a talk at the 2006\\n\\nStartup School.)The startups we've funded so far are pretty quick, but they seem\\n\\nquicker to learn some lessons than others.  I think it's because\\n\\nsome things about startups are kind of counterintuitive.We've now\\n\\ninvested\\n\\nin enough companies that I've learned a trick\\n\\nfor determining which points are the counterintuitive ones:\", metadata={'doc_id': 'cf203db0-dda7-418a-8295-f8f4f91d636a', 'source': '../data/PaulGrahamEssaysLarge/startuplessons.txt'})]"
      ]
     },
     "execution_count": 35,
     "metadata": {},
     "output_type": "execute_result"
    }
   ],
   "source": [
    "sub_docs = vectorstore.similarity_search(\"what is some investing advice?\")\n",
    "sub_docs"
   ]
  },
  {
   "cell_type": "markdown",
   "id": "6fa3cffa",
   "metadata": {},
   "source": [
    "Now, let's do the full process, we'll see what small chunks are generated, but then return the larger chunks as our relevant documents"
   ]
  },
  {
   "cell_type": "code",
   "execution_count": 36,
   "id": "db8e4809",
   "metadata": {},
   "outputs": [
    {
     "data": {
      "text/plain": [
       "Document(page_content='means VCs are now in the business of finding promising little 2-3\\n\\nman startups and pumping them up into companies that cost $100\\n\\nmillion to acquire.   They didn\\'t mean to be in this business; it\\'s\\n\\njust what their business has evolved into.Hence the fourth problem: the acquirers have begun to realize they\\n\\ncan buy wholesale.  Why should they wait for VCs to make the startups\\n\\nthey want more expensive?  Most of what the VCs add, acquirers don\\'t\\n\\nwant anyway.  The acquirers already have brand recognition and HR\\n\\ndepartments.  What they really want is the software and the developers,\\n\\nand that\\'s what the startup is in the early phase: concentrated\\n\\nsoftware and developers.Google, typically, seems to have been the first to figure this out.\\n\\n\"Bring us your startups early,\" said Google\\'s speaker at the Startup School.  They\\'re quite\\n\\nexplicit about it: they like to acquire startups at just the point\\n\\nwhere they would do a Series A round.  (The Series A round is the\\n\\nfirst round of real VC funding; it usually happens in the first\\n\\nyear.) It is a brilliant strategy, and one that other big technology\\n\\ncompanies will no doubt try to duplicate.  Unless they want to have\\n\\nstill more of their lunch eaten by Google.Of course, Google has an advantage in buying startups: a lot of the\\n\\npeople there are rich, or expect to be when their options vest.\\n\\nOrdinary employees find it very hard to recommend an acquisition;\\n\\nit\\'s just too annoying to see a bunch of twenty year olds get rich\\n\\nwhen you\\'re still working for salary.  Even if it\\'s the right thing\\n\\nfor your company to do.The Solution(s)Bad as things look now, there is a way for VCs to save themselves.\\n\\nThey need to do two things, one of which won\\'t surprise them, and\\n\\nanother that will seem an anathema.Let\\'s start with the obvious one: lobby to get Sarbanes-Oxley\\n\\nloosened.  This law was created to prevent future Enrons, not to\\n\\ndestroy the IPO market.  Since the IPO market was practically dead', metadata={'source': '../data/PaulGrahamEssaysLarge/vcsqueeze.txt'})"
      ]
     },
     "execution_count": 36,
     "metadata": {},
     "output_type": "execute_result"
    }
   ],
   "source": [
    "larger_chunk_relevant_docs = retriever.get_relevant_documents(\"what is some investing advice?\")\n",
    "larger_chunk_relevant_docs[0]"
   ]
  },
  {
   "cell_type": "code",
   "execution_count": 37,
   "id": "5689ec55",
   "metadata": {},
   "outputs": [
    {
     "data": {
      "text/plain": [
       "\"One piece of investing advice is to get a version 1 out fast, then improve it based on users' reactions. This is particularly relevant for startups. It's better to release something minimal and improve it based on user feedback than to guess what users might like. Another piece of advice is to have an explicit belief in change and to look for it, as change that matters usually comes from an unforeseen quarter.\""
      ]
     },
     "execution_count": 37,
     "metadata": {},
     "output_type": "execute_result"
    }
   ],
   "source": [
    "prompt_template = \"\"\"Use the following pieces of context to answer the question at the end.\n",
    "If you don't know the answer, just say that you don't know, don't try to make up an answer.\n",
    "\n",
    "{context}\n",
    "\n",
    "Question: {question}\n",
    "Answer:\"\"\"\n",
    "PROMPT = PromptTemplate(\n",
    "    template=prompt_template, input_variables=[\"context\", \"question\"]\n",
    ")\n",
    "\n",
    "question = \"what is some investing advice?\"\n",
    "\n",
    "llm.predict(text=PROMPT.format_prompt(\n",
    "    context=larger_chunk_relevant_docs,\n",
    "    question=question\n",
    ").text)"
   ]
  },
  {
   "cell_type": "markdown",
   "id": "a76261c6",
   "metadata": {},
   "source": [
    "### Ensemble Retriever\n",
    "\n",
    "The next one on our list combines multiple retrievers together. The goal here is to see what multiple methods return, then pull them together for (hopefully) better results.\n",
    "\n",
    "You may need to install bm25 with `!pip install rank_bm25`"
   ]
  },
  {
   "cell_type": "code",
   "execution_count": 38,
   "id": "2d1e83f1",
   "metadata": {},
   "outputs": [],
   "source": [
    "from langchain.retrievers import BM25Retriever, EnsembleRetriever"
   ]
  },
  {
   "cell_type": "markdown",
   "id": "21bec867",
   "metadata": {},
   "source": [
    "We'll use a [BM25 retriever](https://en.wikipedia.org/wiki/Okapi_BM25) for this one which is really good at keyword matching (vs semantic). When you combine this method with regular semantic search it's known as hybrid search."
   ]
  },
  {
   "cell_type": "code",
   "execution_count": 39,
   "id": "f97add10",
   "metadata": {},
   "outputs": [],
   "source": [
    "# initialize the bm25 retriever and faiss retriever\n",
    "bm25_retriever = BM25Retriever.from_documents(splits)\n",
    "bm25_retriever.k = 2"
   ]
  },
  {
   "cell_type": "code",
   "execution_count": 40,
   "id": "20b58715",
   "metadata": {},
   "outputs": [],
   "source": [
    "embedding = OpenAIEmbeddings()\n",
    "vectordb = Chroma.from_documents(splits, embedding)\n",
    "vectordb = vectordb.as_retriever(search_kwargs={\"k\": 2})"
   ]
  },
  {
   "cell_type": "code",
   "execution_count": 41,
   "id": "d4eb755d",
   "metadata": {},
   "outputs": [],
   "source": [
    "# initialize the ensemble retriever\n",
    "ensemble_retriever = EnsembleRetriever(retrievers=[bm25_retriever, vectordb], weights=[0.5, 0.5])"
   ]
  },
  {
   "cell_type": "code",
   "execution_count": 42,
   "id": "0d38a44a",
   "metadata": {},
   "outputs": [
    {
     "data": {
      "text/plain": [
       "3"
      ]
     },
     "execution_count": 42,
     "metadata": {},
     "output_type": "execute_result"
    }
   ],
   "source": [
    "ensemble_docs = ensemble_retriever.get_relevant_documents(\"what is some investing advice?\")\n",
    "len(ensemble_docs)"
   ]
  },
  {
   "cell_type": "code",
   "execution_count": 43,
   "id": "f7e930e4",
   "metadata": {},
   "outputs": [
    {
     "data": {
      "text/plain": [
       "\"One piece of investing advice is to make a larger number of smaller investments instead of a few large ones. Additionally, it can be beneficial to fund younger, more technical founders instead of MBAs and to let the founders remain as CEO. Another advice is that the best sources of seed funding are successful startup founders, as they can also provide valuable advice. However, it's important to be aware of the potential for obsolete beliefs in a changing world, especially when investing in early-stage startups. Many good startup ideas may initially look like bad ideas because some change in the world just switched them from bad to good. Therefore, having an explicit belief in change can be beneficial.\""
      ]
     },
     "execution_count": 43,
     "metadata": {},
     "output_type": "execute_result"
    }
   ],
   "source": [
    "prompt_template = \"\"\"Use the following pieces of context to answer the question at the end.\n",
    "If you don't know the answer, just say that you don't know, don't try to make up an answer.\n",
    "\n",
    "{context}\n",
    "\n",
    "Question: {question}\n",
    "Answer:\"\"\"\n",
    "PROMPT = PromptTemplate(\n",
    "    template=prompt_template, input_variables=[\"context\", \"question\"]\n",
    ")\n",
    "\n",
    "question = \"what is some investing advice?\"\n",
    "\n",
    "llm.predict(text=PROMPT.format_prompt(\n",
    "    context=ensemble_docs,\n",
    "    question=question\n",
    ").text)"
   ]
  },
  {
   "cell_type": "markdown",
   "id": "5deae6d2",
   "metadata": {},
   "source": [
    "### Self Querying\n",
    "\n",
    "The last one we'll look at today is self querying. This is when the retriever has the ability to query itself. It does this so it can use filters when doing it's final query.\n",
    "\n",
    "This means it'll use the users query for semantic search, but also its own query for filtering (so the user doesn't have to give a structured filter).\n",
    "\n",
    "You may need to install `!pip install lark`"
   ]
  },
  {
   "cell_type": "code",
   "execution_count": 44,
   "id": "8308c26b",
   "metadata": {},
   "outputs": [],
   "source": [
    "from langchain.retrievers.self_query.base import SelfQueryRetriever\n",
    "from langchain.chains.query_constructor.base import AttributeInfo\n",
    "\n",
    "embeddings = OpenAIEmbeddings()\n",
    "llm = ChatOpenAI(temperature=0, model='gpt-4')"
   ]
  },
  {
   "cell_type": "code",
   "execution_count": 45,
   "id": "8f85445b",
   "metadata": {},
   "outputs": [],
   "source": [
    "if 'vectorstore' in globals(): # If you've already made your vectordb this will delete it so you start fresh\n",
    "    vectorstore.delete_collection()\n",
    "\n",
    "vectorstore = Chroma.from_documents(\n",
    "    splits, embeddings\n",
    ")"
   ]
  },
  {
   "cell_type": "code",
   "execution_count": 46,
   "id": "89fdc150",
   "metadata": {},
   "outputs": [],
   "source": [
    "metadata_field_info=[\n",
    "    AttributeInfo(\n",
    "        name=\"source\",\n",
    "        description=\"The filename of the essay\", \n",
    "        type=\"string or list[string]\", \n",
    "    ),\n",
    "]"
   ]
  },
  {
   "cell_type": "code",
   "execution_count": 47,
   "id": "898665ab",
   "metadata": {},
   "outputs": [],
   "source": [
    "document_content_description = \"Essays from Paul Graham\"\n",
    "retriever = SelfQueryRetriever.from_llm(llm,\n",
    "                                        vectorstore,\n",
    "                                        document_content_description,\n",
    "                                        metadata_field_info,\n",
    "                                        verbose=True,\n",
    "                                        enable_limit=True)"
   ]
  },
  {
   "cell_type": "code",
   "execution_count": 48,
   "id": "fc5a7209",
   "metadata": {},
   "outputs": [
    {
     "name": "stdout",
     "output_type": "stream",
     "text": [
      "query='figure out what you like to do' filter=Comparison(comparator=<Comparator.EQ: 'eq'>, attribute='source', value='../data/PaulGrahamEssaysLarge/island.txt') limit=1\n"
     ]
    },
    {
     "data": {
      "text/plain": [
       "[Document(page_content=\"July 2006I've discovered a handy test for figuring out what you're addicted\\n\\nto.  Imagine you were going to spend the weekend at a friend's house\\n\\non a little island off the coast of Maine.  There are no shops on\\n\\nthe island and you won't be able to leave while you're there.  Also,\\n\\nyou've never been to this house before, so you can't assume it will\\n\\nhave more than any house might.What, besides clothes and toiletries, do you make a point of packing?\\n\\nThat's what you're addicted to.  For example, if you find yourself\\n\\npacking a bottle of vodka (just in case), you may want to stop and\\n\\nthink about that.For me the list is four things: books, earplugs, a notebook, and a\\n\\npen.There are other things I might bring if I thought of it, like music,\\n\\nor tea, but I can live without them.  I'm not so addicted to caffeine\\n\\nthat I wouldn't risk the house not having any tea, just for a\\n\\nweekend.Quiet is another matter.  I realize it seems a bit eccentric to\\n\\ntake earplugs on a trip to an island off the coast of Maine.  If\\n\\nanywhere should be quiet, that should.  But what if the person in\\n\\nthe next room snored?  What if there was a kid playing basketball?\\n\\n(Thump, thump, thump... thump.)  Why risk it?  Earplugs are small.Sometimes I can think with noise.  If I already have momentum on\\n\\nsome project, I can work in noisy places.  I can edit an essay or\\n\\ndebug code in an airport.  But airports are not so bad: most of the\\n\\nnoise is whitish.  I couldn't work with the sound of a sitcom coming\", metadata={'source': '../data/PaulGrahamEssaysLarge/island.txt'})]"
      ]
     },
     "execution_count": 48,
     "metadata": {},
     "output_type": "execute_result"
    }
   ],
   "source": [
    "retriever.get_relevant_documents(\"Return only 1 essay. What is one thing you can do to figure out what you like to do from source '../data/PaulGrahamEssaysLarge/island.txt'\")"
   ]
  },
  {
   "cell_type": "markdown",
   "id": "b16b3757",
   "metadata": {},
   "source": [
    "It's kind of annoying to have to put in the full file name, a user doesn't want to do that. Let's change `source` to `essay` and the file path w/ the essay name"
   ]
  },
  {
   "cell_type": "code",
   "execution_count": 49,
   "id": "95dfc489",
   "metadata": {},
   "outputs": [],
   "source": [
    "import re\n",
    "\n",
    "for split in splits:\n",
    "    split.metadata['essay'] = re.search(r'[^/]+(?=\\.\\w+$)', split.metadata['source']).group()"
   ]
  },
  {
   "cell_type": "markdown",
   "id": "646b9fca",
   "metadata": {},
   "source": [
    "Ok now that we did that, let's make a new field info config"
   ]
  },
  {
   "cell_type": "code",
   "execution_count": 50,
   "id": "9bbf7f6b",
   "metadata": {},
   "outputs": [],
   "source": [
    "metadata_field_info=[\n",
    "    AttributeInfo(\n",
    "        name=\"essay\",\n",
    "        description=\"The name of the essay\", \n",
    "        type=\"string or list[string]\", \n",
    "    ),\n",
    "]"
   ]
  },
  {
   "cell_type": "code",
   "execution_count": 51,
   "id": "96a75eea",
   "metadata": {},
   "outputs": [],
   "source": [
    "if 'vectorstore' in globals(): # If you've already made your vectordb this will delete it so you start fresh\n",
    "    vectorstore.delete_collection()\n",
    "\n",
    "vectorstore = Chroma.from_documents(\n",
    "    splits, embeddings\n",
    ")"
   ]
  },
  {
   "cell_type": "code",
   "execution_count": 52,
   "id": "39a6c78c",
   "metadata": {},
   "outputs": [],
   "source": [
    "document_content_description = \"Essays from Paul Graham\"\n",
    "retriever = SelfQueryRetriever.from_llm(llm,\n",
    "                                        vectorstore,\n",
    "                                        document_content_description,\n",
    "                                        metadata_field_info,\n",
    "                                        verbose=True,\n",
    "                                        enable_limit=True)"
   ]
  },
  {
   "cell_type": "code",
   "execution_count": 53,
   "id": "88ab1345",
   "metadata": {},
   "outputs": [
    {
     "name": "stdout",
     "output_type": "stream",
     "text": [
      "query='investment advice' filter=Comparison(comparator=<Comparator.EQ: 'eq'>, attribute='essay', value='worked') limit=1\n"
     ]
    },
    {
     "data": {
      "text/plain": [
       "[Document(page_content='should make a larger number of smaller investments instead of a\\n\\nhandful of giant ones, they should be funding younger, more technical\\n\\nfounders instead of MBAs, they should let the founders remain as\\n\\nCEO, and so on.One of my tricks for writing essays had always been to give talks.\\n\\nThe prospect of having to stand up in front of a group of people\\n\\nand tell them something that won\\'t waste their time is a great\\n\\nspur to the imagination. When the Harvard Computer Society, the\\n\\nundergrad computer club, asked me to give a talk, I decided I would\\n\\ntell them how to start a startup. Maybe they\\'d be able to avoid the\\n\\nworst of the mistakes we\\'d made.So I gave this talk, in the course of which I told them that the\\n\\nbest sources of seed funding were successful startup founders,\\n\\nbecause then they\\'d be sources of advice too. Whereupon it seemed\\n\\nthey were all looking expectantly at me. Horrified at the prospect\\n\\nof having my inbox flooded by business plans (if I\\'d only known),\\n\\nI blurted out \"But not me!\" and went on with the talk. But afterward\\n\\nit occurred to me that I should really stop procrastinating about\\n\\nangel investing. I\\'d been meaning to since Yahoo bought us, and now\\n\\nit was 7 years later and I still hadn\\'t done one angel investment.Meanwhile I had been scheming with Robert and Trevor about projects\\n\\nwe could work on together. I missed working with them, and it seemed', metadata={'essay': 'worked', 'source': '../data/PaulGrahamEssaysLarge/worked.txt'})]"
      ]
     },
     "execution_count": 53,
     "metadata": {},
     "output_type": "execute_result"
    }
   ],
   "source": [
    "retriever.get_relevant_documents(\"Tell me about investment advice the 'worked' essay? return only 1\")"
   ]
  },
  {
   "cell_type": "markdown",
   "id": "e9e28e68",
   "metadata": {},
   "source": [
    "Awesome! It returned it back for us. It's a bit rigid because you need to put in the exact name of the file/essay you want to get. You could make a pre-step and infer the correct essay from the users choice but this is out of scope for now and application specific."
   ]
  }
 ],
 "metadata": {
  "kernelspec": {
   "display_name": "Python 3 (ipykernel)",
   "language": "python",
   "name": "python3"
  },
  "language_info": {
   "codemirror_mode": {
    "name": "ipython",
    "version": 3
   },
   "file_extension": ".py",
   "mimetype": "text/x-python",
   "name": "python",
   "nbconvert_exporter": "python",
   "pygments_lexer": "ipython3",
   "version": "3.9.13"
  }
 },
 "nbformat": 4,
 "nbformat_minor": 5
}
